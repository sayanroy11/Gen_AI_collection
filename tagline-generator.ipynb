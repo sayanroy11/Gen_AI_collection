{
 "cells": [
  {
   "cell_type": "code",
   "execution_count": 15,
   "id": "b5b5a48a-f550-4fec-bbc4-d36a8c05112c",
   "metadata": {
    "tags": []
   },
   "outputs": [
    {
     "name": "stdout",
     "output_type": "stream",
     "text": [
      "Embrace Nature\n",
      ", One Step at a Time: Venture Beyond with Comfort and Confidence.\n"
     ]
    }
   ],
   "source": [
    "from vertexai.preview.generative_models import GenerativeModel\n",
    "\n",
    "model = GenerativeModel(\"gemini-1.0-pro\")\n",
    "\n",
    "prompt = \"\"\"\n",
    "Cymbal Direct is partnering with an outdoor gear retailer. They\\'re launching a new line of products designed to encourage young people to explore the outdoors. Help them create catchy taglines for this product line.\n",
    "\n",
    "input: Write a tagline for a durable backpack designed for hikers that makes them feel prepared. Consider styles like minimalist.\n",
    "output: Built for the Journey: Your Adventure Essentials.\n",
    "\n",
    "input: Write a tagline for sports goggles designed for hikers that makes them feel prepared. Consider styles like oakley.\n",
    "output: Forge Ahead with Clear Vision, Seize Every Moment.\n",
    "\n",
    "input: Write a tagline for hiking boots designed for hikers that makes them feel prepared. Consider styles like Woodland. Include the keyword nature in the response.\n",
    "output:\n",
    "\"\"\"\n",
    "\n",
    "responses = model.generate_content(\n",
    "    prompt,\n",
    "    generation_config={\n",
    "        \"temperature\": 0.8,\n",
    "        \"max_output_tokens\": 2048,\n",
    "        \"top_p\": 1.0,\n",
    "        \"top_k\": 40,\n",
    "    },\n",
    "    stream=True\n",
    "    )\n",
    "\n",
    "for response in responses:\n",
    "    print(response.text)"
   ]
  },
  {
   "cell_type": "code",
   "execution_count": null,
   "id": "0e9864db-0b5c-45f4-8207-614fcb2dd7a4",
   "metadata": {},
   "outputs": [],
   "source": []
  }
 ],
 "metadata": {
  "environment": {
   "kernel": "python3",
   "name": "tf2-cpu.2-15.m120",
   "type": "gcloud",
   "uri": "us-docker.pkg.dev/deeplearning-platform-release/gcr.io/tf2-cpu.2-15:m120"
  },
  "kernelspec": {
   "display_name": "Python 3 (Local)",
   "language": "python",
   "name": "python3"
  },
  "language_info": {
   "codemirror_mode": {
    "name": "ipython",
    "version": 3
   },
   "file_extension": ".py",
   "mimetype": "text/x-python",
   "name": "python",
   "nbconvert_exporter": "python",
   "pygments_lexer": "ipython3",
   "version": "3.10.14"
  }
 },
 "nbformat": 4,
 "nbformat_minor": 5
}
